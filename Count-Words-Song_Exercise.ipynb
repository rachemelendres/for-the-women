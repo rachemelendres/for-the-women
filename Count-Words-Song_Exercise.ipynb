{
 "cells": [
  {
   "cell_type": "code",
   "execution_count": 10,
   "metadata": {
    "colab": {},
    "colab_type": "code",
    "id": "EFW-pwc5um2q"
   },
   "outputs": [],
   "source": [
    "# Counting the words in a song exercise\n",
    "\n",
    "## Entering lyrics to Baby Shark song as a string\n",
    "\n",
    "song = \"\"\"\n",
    "Baby Shark doo doo doo doo doo doo\n",
    "Baby Shark doo doo doo doo doo doo\n",
    "Baby Shark doo doo doo doo doo doo\n",
    "Baby Shark\n",
    "\n",
    "Mummy Shark doo doo doo doo doo doo\n",
    "Mummy Shark doo doo doo doo doo doo\n",
    "Mummy Shark doo doo doo doo doo doo\n",
    "Mummy Shark\n",
    "\n",
    "Daddy Shark doo doo doo doo doo doo\n",
    "Daddy Shark doo doo doo doo doo doo\n",
    "Daddy Shark doo doo doo doo doo doo\n",
    "Daddy Shark\n",
    "\n",
    "Grandma Shark doo doo doo doo doo doo\n",
    "Grandma Shark doo doo doo doo doo doo\n",
    "Grandma Shark doo doo doo doo doo doo\n",
    "Grandma Shark\n",
    "\n",
    "Grandpa Shark doo doo doo doo doo doo\n",
    "Grandpa Shark doo doo doo doo doo doo\n",
    "Grandpa Shark doo doo doo doo doo doo\n",
    "Grandpa Shark\n",
    "\n",
    "Let's go hunt doo doo doo doo doo doo\n",
    "Let's go hunt doo doo doo doo doo doo\n",
    "Let's go hunt doo doo doo doo doo doo\n",
    "Let's go hunt\n",
    "\n",
    "Run away doo doo doo doo doo doo\n",
    "Run away doo doo doo doo doo doo\n",
    "Run away doo doo doo doo doo doo\n",
    "Run away\n",
    "\n",
    "Safe at last doo doo doo doo doo doo\n",
    "Safe at last doo doo doo doo doo doo\n",
    "Safe at last doo doo doo doo doo doo\n",
    "Safe at last\n",
    "\n",
    "It's the end doo doo doo doo doo doo\n",
    "It's the end doo doo doo doo doo doo\n",
    "It's the end doo doo doo doo doo doo\n",
    "It's the end\n",
    "\"\"\""
   ]
  },
  {
   "cell_type": "code",
   "execution_count": 11,
   "metadata": {
    "colab": {
     "base_uri": "https://localhost:8080/",
     "height": 34
    },
    "colab_type": "code",
    "id": "hz8GryxvxkgH",
    "outputId": "859db2c7-f8b2-4189-ca34-6796b67c00fe"
   },
   "outputs": [
    {
     "name": "stdout",
     "output_type": "stream",
     "text": [
      "{'Baby': 4, 'Shark': 20, 'doo': 162, 'Mummy': 4, 'Daddy': 4, 'Grandma': 4, 'Grandpa': 4, \"Let's\": 4, 'go': 4, 'hunt': 4, 'Run': 4, 'away': 4, 'Safe': 4, 'at': 4, 'last': 4, \"It's\": 4, 'the': 4, 'end': 4}\n"
     ]
    }
   ],
   "source": [
    "## Perform count while retrieving unique words \n",
    "\n",
    "song_dict = {}\n",
    "for word in song.split():\n",
    "  if word in song_dict:\n",
    "    song_dict[word] +=1\n",
    "  else:\n",
    "    song_dict[word] = 1\n",
    "print(song_dict) ## Each unique word and count are shown as key-values in a dictionary"
   ]
  }
 ],
 "metadata": {
  "colab": {
   "collapsed_sections": [],
   "name": "CountSong_Exercise.ipynb",
   "provenance": []
  },
  "kernelspec": {
   "display_name": "Python 3",
   "language": "python",
   "name": "python3"
  },
  "language_info": {
   "codemirror_mode": {
    "name": "ipython",
    "version": 3
   },
   "file_extension": ".py",
   "mimetype": "text/x-python",
   "name": "python",
   "nbconvert_exporter": "python",
   "pygments_lexer": "ipython3",
   "version": "3.7.4"
  }
 },
 "nbformat": 4,
 "nbformat_minor": 1
}
